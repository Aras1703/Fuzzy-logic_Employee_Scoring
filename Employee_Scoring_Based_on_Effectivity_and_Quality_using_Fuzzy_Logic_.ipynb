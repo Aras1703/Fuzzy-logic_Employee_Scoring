{
  "nbformat": 4,
  "nbformat_minor": 5,
  "metadata": {
    "kernelspec": {
      "display_name": "Python 3 (ipykernel)",
      "language": "python",
      "name": "python3"
    },
    "language_info": {
      "codemirror_mode": {
        "name": "ipython",
        "version": 3
      },
      "file_extension": ".py",
      "mimetype": "text/x-python",
      "name": "python",
      "nbconvert_exporter": "python",
      "pygments_lexer": "ipython3",
      "version": "3.9.7"
    },
    "colab": {
      "name": "Employee Scoring Based on Effectivity and Quality using Fuzzy Logic .ipynb",
      "provenance": [],
      "collapsed_sections": [],
      "include_colab_link": true
    }
  },
  "cells": [
    {
      "cell_type": "markdown",
      "metadata": {
        "id": "view-in-github",
        "colab_type": "text"
      },
      "source": [
        "<a href=\"https://colab.research.google.com/github/Aras1703/Fuzzy-logic_Employee_Scoring/blob/main/Employee_Scoring_Based_on_Effectivity_and_Quality_using_Fuzzy_Logic_.ipynb\" target=\"_parent\"><img src=\"https://colab.research.google.com/assets/colab-badge.svg\" alt=\"Open In Colab\"/></a>"
      ]
    },
    {
      "cell_type": "code",
      "metadata": {
        "id": "23360f81-6a68-4225-8f77-39630072bff7"
      },
      "source": [
        "import pandas as pd\n",
        "import numpy as np\n",
        "import matplotlib.pyplot as plt"
      ],
      "id": "23360f81-6a68-4225-8f77-39630072bff7",
      "execution_count": null,
      "outputs": []
    },
    {
      "cell_type": "code",
      "metadata": {
        "colab": {
          "base_uri": "https://localhost:8080/",
          "height": 424
        },
        "id": "f50ece44-1cf5-43e6-8e0f-d28361cd854d",
        "outputId": "ce2ea8c1-2f9e-425d-fab5-265fb51e468b"
      },
      "source": [
        "karyawan = pd.read_csv(\"bb.csv\")\n",
        "karyawan"
      ],
      "id": "f50ece44-1cf5-43e6-8e0f-d28361cd854d",
      "execution_count": null,
      "outputs": [
        {
          "output_type": "execute_result",
          "data": {
            "text/html": [
              "<div>\n",
              "<style scoped>\n",
              "    .dataframe tbody tr th:only-of-type {\n",
              "        vertical-align: middle;\n",
              "    }\n",
              "\n",
              "    .dataframe tbody tr th {\n",
              "        vertical-align: top;\n",
              "    }\n",
              "\n",
              "    .dataframe thead th {\n",
              "        text-align: right;\n",
              "    }\n",
              "</style>\n",
              "<table border=\"1\" class=\"dataframe\">\n",
              "  <thead>\n",
              "    <tr style=\"text-align: right;\">\n",
              "      <th></th>\n",
              "      <th>ID</th>\n",
              "      <th>Karyawan</th>\n",
              "      <th>Kualitas</th>\n",
              "      <th>Efektivitas</th>\n",
              "    </tr>\n",
              "  </thead>\n",
              "  <tbody>\n",
              "    <tr>\n",
              "      <th>0</th>\n",
              "      <td>1</td>\n",
              "      <td>Euis</td>\n",
              "      <td>59</td>\n",
              "      <td>64</td>\n",
              "    </tr>\n",
              "    <tr>\n",
              "      <th>1</th>\n",
              "      <td>2</td>\n",
              "      <td>Muhammad</td>\n",
              "      <td>27</td>\n",
              "      <td>4</td>\n",
              "    </tr>\n",
              "    <tr>\n",
              "      <th>2</th>\n",
              "      <td>3</td>\n",
              "      <td>Nur</td>\n",
              "      <td>94</td>\n",
              "      <td>88</td>\n",
              "    </tr>\n",
              "    <tr>\n",
              "      <th>3</th>\n",
              "      <td>4</td>\n",
              "      <td>Dewi</td>\n",
              "      <td>27</td>\n",
              "      <td>73</td>\n",
              "    </tr>\n",
              "    <tr>\n",
              "      <th>4</th>\n",
              "      <td>5</td>\n",
              "      <td>Tri</td>\n",
              "      <td>29</td>\n",
              "      <td>64</td>\n",
              "    </tr>\n",
              "    <tr>\n",
              "      <th>...</th>\n",
              "      <td>...</td>\n",
              "      <td>...</td>\n",
              "      <td>...</td>\n",
              "      <td>...</td>\n",
              "    </tr>\n",
              "    <tr>\n",
              "      <th>95</th>\n",
              "      <td>96</td>\n",
              "      <td>Hadi</td>\n",
              "      <td>38</td>\n",
              "      <td>86</td>\n",
              "    </tr>\n",
              "    <tr>\n",
              "      <th>96</th>\n",
              "      <td>97</td>\n",
              "      <td>Diana</td>\n",
              "      <td>67</td>\n",
              "      <td>30</td>\n",
              "    </tr>\n",
              "    <tr>\n",
              "      <th>97</th>\n",
              "      <td>98</td>\n",
              "      <td>Anggraini</td>\n",
              "      <td>43</td>\n",
              "      <td>24</td>\n",
              "    </tr>\n",
              "    <tr>\n",
              "      <th>98</th>\n",
              "      <td>99</td>\n",
              "      <td>Wulan</td>\n",
              "      <td>98</td>\n",
              "      <td>55</td>\n",
              "    </tr>\n",
              "    <tr>\n",
              "      <th>99</th>\n",
              "      <td>100</td>\n",
              "      <td>Saputra</td>\n",
              "      <td>21</td>\n",
              "      <td>85</td>\n",
              "    </tr>\n",
              "  </tbody>\n",
              "</table>\n",
              "<p>100 rows × 4 columns</p>\n",
              "</div>"
            ],
            "text/plain": [
              "     ID   Karyawan  Kualitas  Efektivitas\n",
              "0     1       Euis        59           64\n",
              "1     2   Muhammad        27            4\n",
              "2     3        Nur        94           88\n",
              "3     4       Dewi        27           73\n",
              "4     5        Tri        29           64\n",
              "..  ...        ...       ...          ...\n",
              "95   96       Hadi        38           86\n",
              "96   97      Diana        67           30\n",
              "97   98  Anggraini        43           24\n",
              "98   99      Wulan        98           55\n",
              "99  100    Saputra        21           85\n",
              "\n",
              "[100 rows x 4 columns]"
            ]
          },
          "metadata": {},
          "execution_count": 2
        }
      ]
    },
    {
      "cell_type": "code",
      "metadata": {
        "colab": {
          "base_uri": "https://localhost:8080/"
        },
        "id": "570e4692-e635-49ed-9969-56bb40b66293",
        "outputId": "3bad540a-1616-4efa-dc16-3647509748b2"
      },
      "source": [
        "id = karyawan[\"ID\"]\n",
        "kualitas = karyawan[\"Kualitas\"]\n",
        "efektivitas = karyawan[\"Efektivitas\"]\n",
        "efektivitas"
      ],
      "id": "570e4692-e635-49ed-9969-56bb40b66293",
      "execution_count": null,
      "outputs": [
        {
          "output_type": "execute_result",
          "data": {
            "text/plain": [
              "0     64\n",
              "1      4\n",
              "2     88\n",
              "3     73\n",
              "4     64\n",
              "      ..\n",
              "95    86\n",
              "96    30\n",
              "97    24\n",
              "98    55\n",
              "99    85\n",
              "Name: Efektivitas, Length: 100, dtype: int64"
            ]
          },
          "metadata": {},
          "execution_count": 3
        }
      ]
    },
    {
      "cell_type": "markdown",
      "metadata": {
        "id": "Up7WJT8aQlso"
      },
      "source": [
        "##**RUMUS EFEKTIVITAS KARYAWAN**"
      ],
      "id": "Up7WJT8aQlso"
    },
    {
      "cell_type": "code",
      "metadata": {
        "id": "8921c45b-19ce-4ed9-85c1-807e1384cea0"
      },
      "source": [
        "def efektivitas_buruk(efektivitas):\n",
        "    nilai_efektivitas_buruk = 0\n",
        "\n",
        "    if efektivitas <= 10.0:\n",
        "        nilai_efektivitas_buruk = 1\n",
        "    else:\n",
        "        if (efektivitas > 10.0) and (efektivitas < 30.0):\n",
        "            nilai_efektivitas_buruk = (30.0 - efektivitas) / (30.0 - 10.0)\n",
        "        else:\n",
        "            nilai_efektivitas_buruk = 0\n",
        "\n",
        "    return round(nilai_efektivitas_buruk,2)"
      ],
      "id": "8921c45b-19ce-4ed9-85c1-807e1384cea0",
      "execution_count": null,
      "outputs": []
    },
    {
      "cell_type": "code",
      "metadata": {
        "id": "4a5ab713-6f89-4edb-a488-2f21f51a96c7"
      },
      "source": [
        "def efektivitas_biasa(efektivitas):\n",
        "    nilai_efektivitas_biasa = 0\n",
        "\n",
        "    if efektivitas >= 10.0 and efektivitas < 70.0:\n",
        "        if efektivitas >= 30.0 and efektivitas <= 50.0:\n",
        "            nilai_efektivitas_biasa = 1\n",
        "        else:\n",
        "            if efektivitas >= 10.0 and efektivitas < 30.0:\n",
        "                nilai_efektivitas_biasa = (efektivitas - 10.0) / (30.0 - 10.0)\n",
        "            else:\n",
        "                if efektivitas > 50.0 and efektivitas <= 70.0:\n",
        "                    nilai_efektivitas_biasa = (70.0 - efektivitas) / (70.0 - 50.0)\n",
        "                else:\n",
        "                    nilai_efektivitas_biasa = 0\n",
        "\n",
        "    return round(nilai_efektivitas_biasa,2)"
      ],
      "id": "4a5ab713-6f89-4edb-a488-2f21f51a96c7",
      "execution_count": null,
      "outputs": []
    },
    {
      "cell_type": "code",
      "metadata": {
        "id": "e5a131d9-d28b-4450-bd8b-b936ae75b098"
      },
      "source": [
        "def efektivitas_baik(efektivitas):\n",
        "    nilai_efektivitas_baik = 0\n",
        "\n",
        "    if efektivitas >= 70.0:\n",
        "        nilai_efektivitas_baik = 1\n",
        "    else:\n",
        "        if efektivitas >= 50.0 and efektivitas < 70.0:\n",
        "            nilai_efektivitas_baik = (efektivitas - 50.0) / (70.0 - 50.0)\n",
        "        else:\n",
        "            nilai_efektivitas_baik = 0\n",
        "\n",
        "    return round(nilai_efektivitas_baik,2)\n"
      ],
      "id": "e5a131d9-d28b-4450-bd8b-b936ae75b098",
      "execution_count": null,
      "outputs": []
    },
    {
      "cell_type": "code",
      "metadata": {
        "id": "h4pGvOHTbSJu"
      },
      "source": [
        "def nilai_grafik_efektivitas(efektivitas):\n",
        "    \n",
        "    print(\"Nilai Fuzzy Efektivitas\\n\")\n",
        "    \n",
        "    if efektivitas_buruk(efektivitas) != 0:\n",
        "        print(\"Buruk = \" + str(efektivitas_buruk(efektivitas)))\n",
        "    if efektivitas_biasa(efektivitas) != 0:\n",
        "        print(\"Biasa = \" + str(efektivitas_biasa(efektivitas)))\n",
        "    if efektivitas_baik(efektivitas) != 0:\n",
        "        print(\"Baik = \" + str(efektivitas_baik(efektivitas)))\n",
        "\n",
        "    print(\"---------------------------\")"
      ],
      "id": "h4pGvOHTbSJu",
      "execution_count": null,
      "outputs": []
    },
    {
      "cell_type": "code",
      "metadata": {
        "id": "bVu2m1wjb6Qu"
      },
      "source": [
        "def grafikefektivitas(efektivitas):\n",
        "    efektivitasrange = np.arange(0,100,10)\n",
        "    plt.plot(efektivitasrange, [efektivitas_buruk(x) for x in efektivitasrange], color='Red', label='Buruk')\n",
        "    plt.plot(efektivitasrange, [efektivitas_biasa(x) for x in efektivitasrange], color='Green', label='Biasa')\n",
        "    plt.plot(efektivitasrange, [efektivitas_baik(x) for x in efektivitasrange], color='Blue', label='Baik')\n",
        "    plt.title('Grafik Efektivitas')\n",
        "    plt.xlabel('Efektivitas')\n",
        "    plt.legend()\n",
        "    plt.show()"
      ],
      "id": "bVu2m1wjb6Qu",
      "execution_count": null,
      "outputs": []
    },
    {
      "cell_type": "markdown",
      "metadata": {
        "id": "qoPkgyh9V4he"
      },
      "source": [
        "##**RUMUS KUALITAS KARYAWAN**"
      ],
      "id": "qoPkgyh9V4he"
    },
    {
      "cell_type": "code",
      "metadata": {
        "id": "0Wh-t5oXV3ek"
      },
      "source": [
        "def kualitas_sangat_rendah(kualitas):\n",
        "    nilai_kualitas_sangatrendah = 0\n",
        "\n",
        "    if kualitas <= 15.0:\n",
        "        nilai_kualitas_sangatrendah = 1\n",
        "    else:\n",
        "        if (kualitas > 15.0) and (kualitas < 30.0):\n",
        "            nilai_kualitas_sangatrendah = (30.0 - kualitas) / (30.0 - 15.0)\n",
        "        else:\n",
        "            nilai_kualitas_sangatrendah = 0\n",
        "\n",
        "    return round(nilai_kualitas_sangatrendah,2)"
      ],
      "id": "0Wh-t5oXV3ek",
      "execution_count": null,
      "outputs": []
    },
    {
      "cell_type": "code",
      "metadata": {
        "id": "Qsr1Oz8nWlN_"
      },
      "source": [
        "def kualitas_rendah(kualitas):\n",
        "    nilai_kualitas_rendah = 0\n",
        "\n",
        "    if kualitas >= 15.0 and kualitas < 60.0:\n",
        "        if kualitas >= 30.0 and kualitas <= 45.0:\n",
        "            nilai_kualitas_rendah = 1\n",
        "        else:\n",
        "            if kualitas >= 15.0 and kualitas < 30.0:\n",
        "                nilai_kualitas_rendah = (kualitas - 15.0) / (30.0 - 15.0)\n",
        "            else:\n",
        "                if kualitas > 45.0 and kualitas <= 60.0:\n",
        "                    nilai_kualitas_rendah = (60.0 - kualitas) / (60.0 - 45.0)\n",
        "                else:\n",
        "                    nilai_kualitas_rendah = 0\n",
        "\n",
        "    return round(nilai_kualitas_rendah,2)"
      ],
      "id": "Qsr1Oz8nWlN_",
      "execution_count": null,
      "outputs": []
    },
    {
      "cell_type": "code",
      "metadata": {
        "id": "XqmVPA9cX6yd"
      },
      "source": [
        "def kualitas_bagus(kualitas):\n",
        "    nilai_kualitas_bagus = 0\n",
        "\n",
        "    if kualitas >= 45.0 and kualitas < 90.0:\n",
        "        if kualitas >= 60.0 and kualitas <= 75.0:\n",
        "            nilai_kualitas_bagus = 1\n",
        "        else:\n",
        "            if kualitas >= 45.0 and kualitas < 60.0:\n",
        "                nilai_kualitas_bagus = (kualitas - 45.0) / (60.0 - 45.0)\n",
        "            else:\n",
        "                if kualitas > 75.0 and kualitas <= 90.0:\n",
        "                    nilai_kualitas_bagus = (75.0 - kualitas) / (90.0 - 75.0)\n",
        "                else:\n",
        "                    nilai_kualitas_bagus = 0\n",
        "\n",
        "    return round(nilai_kualitas_bagus,2)"
      ],
      "id": "XqmVPA9cX6yd",
      "execution_count": null,
      "outputs": []
    },
    {
      "cell_type": "code",
      "metadata": {
        "id": "i8EeStafYZTO"
      },
      "source": [
        "def kualitas_sangat_bagus(kualitas):\n",
        "    nilai_kualitas_sangatbagus = 0\n",
        "\n",
        "    if kualitas >= 90.0:\n",
        "        nilai_kualitas_sangatbagus = 1\n",
        "    else:\n",
        "        if (kualitas > 75.0) and (kualitas < 90.0):\n",
        "            nilai_kualitas_sangatbagus = (90.0 - kualitas) / (90.0 - 75.0)\n",
        "        else:\n",
        "            nilai_kualitas_sangatbagus = 0\n",
        "\n",
        "    return round(nilai_kualitas_sangatbagus,2)"
      ],
      "id": "i8EeStafYZTO",
      "execution_count": null,
      "outputs": []
    },
    {
      "cell_type": "code",
      "metadata": {
        "id": "R3TnswzhZKD3"
      },
      "source": [
        "def nilai_grafik_kualitas(kualitas):\n",
        "    \n",
        "    print(\"Nilai Fuzzy Kualitas\\n\")\n",
        "    \n",
        "    if kualitas_sangat_rendah(kualitas) != 0:\n",
        "        print(\"Sangat Rendah = \" + str(kualitas_sangat_rendah(kualitas)))\n",
        "    if kualitas_rendah(kualitas) != 0:\n",
        "        print(\"Rendah = \" + str(kualitas_rendah(kualitas)))\n",
        "    if kualitas_bagus(kualitas) != 0:\n",
        "        print(\"Bagus = \" + str(kualitas_bagus(kualitas)))\n",
        "    if kualitas_sangat_bagus(kualitas) != 0:\n",
        "        print(\"Sangat Bagus = \" + str(kualitas_sangat_bagus(kualitas)))\n",
        "\n",
        "    print(\"---------------------------\")"
      ],
      "id": "R3TnswzhZKD3",
      "execution_count": null,
      "outputs": []
    },
    {
      "cell_type": "code",
      "metadata": {
        "id": "SNvr8i0saQV3"
      },
      "source": [
        "def grafikkualitas(kualitas):\n",
        "    kualitasrange = np.arange(0,100,15)\n",
        "    plt.plot(kualitasrange, [kualitas_sangat_rendah(x) for x in kualitasrange], color='Red', label='Sangat Rendah')\n",
        "    plt.plot(kualitasrange, [kualitas_rendah(x) for x in kualitasrange], color='Green', label='Rendah')\n",
        "    plt.plot(kualitasrange, [kualitas_bagus(x) for x in kualitasrange], color='Blue', label='Bagus')\n",
        "    plt.plot(kualitasrange, [kualitas_sangat_bagus(x) for x in kualitasrange], color='Yellow', label='Sangat Bagus')\n",
        "    plt.title('Grafik Kualitas')\n",
        "    plt.xlabel('Kualitas')\n",
        "    plt.legend()\n",
        "    plt.show()"
      ],
      "id": "SNvr8i0saQV3",
      "execution_count": null,
      "outputs": []
    },
    {
      "cell_type": "markdown",
      "metadata": {
        "id": "cdeRk7YXc2jt"
      },
      "source": [
        "##**FUZZIFIKASI**"
      ],
      "id": "cdeRk7YXc2jt"
    },
    {
      "cell_type": "code",
      "metadata": {
        "id": "vQFVixGfcy_4"
      },
      "source": [
        "def hasil_fuzzifikasi(efektivitas,kualitas):\n",
        "  nilai_grafik_efektivitas(efektivitas)\n",
        "  nilai_grafik_kualitas(kualitas)"
      ],
      "id": "vQFVixGfcy_4",
      "execution_count": null,
      "outputs": []
    },
    {
      "cell_type": "markdown",
      "metadata": {
        "id": "1AFu5m-8dNw7"
      },
      "source": [
        "##**INFERENSI DAN DEFUZZIFIKASI**\n",
        "\n",
        "1. IF EFEKTIVITAS = BURUK AND KUALITAS = SANGAT RENDAH THEN NK = LOW\n",
        "2. IF EFEKTIVITAS = BURUK AND KUALITAS = RENDAH THEN NK = LOW\n",
        "3. IF EFEKTIVITAS = BURUK AND KUALITAS = BAGUS THEN NK = LOW\n",
        "4. IF EFEKTIVITAS = BURUK AND KUALITAS = SANGAT BAGUS THEN NK = NORMAL\n",
        "5. IF EFEKTIVITAS = BIASA AND KUALITAS = SANGAT RENDAH THEN NK = LOW\n",
        "6. IF EFEKTIVITAS = BIASA AND KUALITAS = RENDAH THEN NK = NORMAL\n",
        "7. IF EFEKTIVITAS = BIASA AND KUALITAS = BAGUS THEN NK = HIGH\n",
        "8. IF EFEKTIVITAS = BIASA AND KUALITAS = SANGAT BAGUS THEN NK = HIGH\n",
        "9. IF EFEKTIVITAS = BAGUS AND KUALITAS = SANGAT RENDAH THEN NK = NORMAL\n",
        "10. IF EFEKTIVITAS = BAGUS AND KUALITAS = RENDAH THEN NK = NORMAL\n",
        "11. IF EFEKTIVITAS = BAGUS AND KUALITAS = BAGUS THEN NK = HIGH\n",
        "12. IF EFEKTIVITAS = BAGUS AND KUALITAS = SANGAT BAGUS THEN NK = HIGH\n"
      ],
      "id": "1AFu5m-8dNw7"
    },
    {
      "cell_type": "code",
      "metadata": {
        "id": "8R7lnqL6dLqt"
      },
      "source": [
        "def inferensi(efektivitas, kualitas):\n",
        "  \n",
        "    x = 0\n",
        " \n",
        "    kondisi = []\n",
        " \n",
        "    minimal = []\n",
        " \n",
        "    print_kondisi_efektivitas = [\"Buruk\", \"Biasa\", \"Baik\"]\n",
        "    print_kondisi_kualitas = [\"Sangat Rendah\", \"Rendah\", \"Bagus\", \"Sangat Bagus\"]\n",
        " \n",
        "    nilaiefektivitas = [efektivitas_buruk(efektivitas), efektivitas_biasa(efektivitas), efektivitas_baik(efektivitas)]\n",
        "    nilaikualitas = [kualitas_sangat_rendah(kualitas), kualitas_rendah(kualitas), kualitas_bagus(kualitas), kualitas_sangat_bagus(kualitas)]\n",
        " \n",
        "    # i = kualitas\n",
        "    # j = efektivitas\n",
        " \n",
        "   \n",
        "    i=0\n",
        "    j=0\n",
        "\n",
        "    print(\"\\n\\n---------------------------\")\n",
        "    print(\"Rules Yang Digunakan : \")\n",
        "    print(\"---------------------------\\n\")\n",
        " \n",
        "    for i in range(4):\n",
        "        for j in range(3):\n",
        "            if nilaikualitas[i] > 0 and nilaiefektivitas[j] > 0:\n",
        "                nilai_minimal= min(nilaikualitas[i], nilaiefektivitas[j])\n",
        " \n",
        "                pembulatan_minimal = round(nilai_minimal,2)\n",
        "                minimal.append(pembulatan_minimal)\n",
        " \n",
        " \n",
        "                # kualitas=sangat rendah, rendah, bagus efektivitas=buruk, biasa NK=LOW\n",
        "                if (i < 3) and (j <= 1):\n",
        "                    kondisi.append(\"LOW\")\n",
        "                # kualitas = sangat bagus efektivitas=buruk NK=NORMAL\n",
        "                elif (i == 3) and (j == 0):\n",
        "                    kondisi.append(\"NORMAL\")\n",
        "                # kualitas=bagus dan sangat bagus efektivitas=biasa NK=HIGH\n",
        "                elif (i >= 2) and (j == 1):\n",
        "                    kondisi.append(\"HIGH\")\n",
        "                # kualitas=rendah efektivitas=biasa NK=NORMAL\n",
        "                elif (i == 1) and (j == 1):\n",
        "                    kondisi.append(\"NORMAL\")\n",
        "                # kualitas=sangat rendah, rendah efektivitas=baik NK=NORMAL\n",
        "                elif (i <= 1) and (j == 2):\n",
        "                    kondisi.append(\"NORMAL\")\n",
        "                else:\n",
        "                    kondisi.append(\"HIGH\")\n",
        " \n",
        "                print(\"IF EFEKTIVITAS \" + str(print_kondisi_efektivitas[j]) + \" = \" + str(nilaiefektivitas[j]) + \" AND IF KUALITAS \" +\n",
        "                      str(print_kondisi_kualitas[i]) + \" = \" + str(nilaikualitas[i]) + \" THEN NK \" + str(kondisi[x]) + \" = \" + str(pembulatan_minimal))\n",
        "                print(\"----------------------------------------------------------------------\")\n",
        " \n",
        "                x += 1\n",
        " \n",
        "    # NILAI FUZZY OUTPUT (MASIH ADA YANG HARUS DI PERBAIKI DI BAGIAN INI !!!)\n",
        " \n",
        "    nilai_LOW = 0\n",
        "    nilai_NORMAL = 0\n",
        "    nilai_HIGH = 0\n",
        "\n",
        "    k = 0\n",
        "    for k in range(x):\n",
        "        if kondisi[k] == \"HIGH\":\n",
        "            nilai_tinggi = max(minimal[k], nilai_HIGH)\n",
        "        elif kondisi[k] == \"NORMAL\":\n",
        "            nilai_NORMAL = max(minimal[k], nilai_NORMAL)\n",
        "        else:\n",
        "            nilai_LOW = max(minimal[k], nilai_LOW)\n",
        "    \n",
        "    print(\"\\nKARYAWAN DENGAN PERINGKAT LOW : \" + str(nilai_LOW))\n",
        "    print(\"\\nKARYAWAN DENGAN PERINGKAT NORMAL : \" + str(nilai_NORMAL))\n",
        "    print(\"\\nKARYAWAN DENGAN PERINGKAT HIGH : \" + str(nilai_HIGH))\n",
        "    \n",
        "    print(\"\\n\\n---------------------------\")\n",
        "    print(\"Defuzzifikasi Sugeno : \")\n",
        "    print(\"---------------------------\\n\")\n",
        "\n",
        "    grafiksugeno()\n",
        "\n",
        "    pembilang = (nilai_LOW * 50) + (nilai_NORMAL * 75) + (nilai_HIGH * 100)\n",
        "    penyebut = nilai_LOW + nilai_NORMAL + nilai_HIGH\n",
        "\n",
        "    y_sugeno = ((nilai_LOW * 50) + (nilai_NORMAL * 75) + (nilai_HIGH * 100)) / (nilai_LOW + nilai_NORMAL + nilai_HIGH)\n",
        "\n",
        "    pembulatan_sugeno = round(y_sugeno, 2)\n",
        "    pembulatan_pembilang = round(pembilang, 2)\n",
        "    pembulatan_penyebut = round(penyebut, 2)\n",
        "\n",
        "    print(\"pembilang = \" + str(pembulatan_pembilang))\n",
        "    print(\"penyebut = \" + str(pembulatan_penyebut))\n",
        "    print(\"y* = \" + str(pembulatan_sugeno))\n",
        "\n",
        "    outputrange = np.arange(0,100,1)\n",
        "    plt.figure(figsize=(15,5))\n",
        "    plt.title('Grafik Output Defuzifikasi Sugeno',fontsize = 20)\n",
        "    plt.plot([50,50],[0,nilai_LOW],linewidth=1, color='Red', label='LOW')\n",
        "    plt.plot([75,75],[0,nilai_NORMAL],linewidth=1, color='Blue', label='NORMAL')\n",
        "    plt.plot([100,100],[0,nilai_HIGH],linewidth=1, color='Yellow', label='HIGH')\n",
        "    plt.xlabel('Nilai')\n",
        "    plt.ylabel(r'$\\mu\\ output$')\n",
        "    plt.legend()"
      ],
      "id": "8R7lnqL6dLqt",
      "execution_count": null,
      "outputs": []
    },
    {
      "cell_type": "code",
      "metadata": {
        "id": "1PTxcmzO5Bn0"
      },
      "source": [
        "def grafiksugeno():\n",
        "    x1 = [10,20,30,40,50,60,75,80,90,100]\n",
        "    y1 = [0,0,0,0,1,0,0,0,0,0]\n",
        "\n",
        "    x2 = [10,20,30,40,50,60,75,80,90,100]\n",
        "    y2 = [0,0,0,0,0,0,1,0,0,0]\n",
        "\n",
        "    x3 = [10,20,30,40,50,60,75,80,90,100]\n",
        "    y3 = [0,0,0,0,0,0,0,0,0,1]\n",
        "\n",
        "    plt.figure(figsize=(15,5))\n",
        "    plt.xticks([10,20,30,40,50,60,70,80,90,100])\n",
        "    plt.title('GrafiK Defuzifikasi Sugeno',fontsize = 20)\n",
        "    plt.bar(x1,y1,linewidth=1, color='Red',label=\"LOW\")\n",
        "    plt.bar(x2,y2,linewidth=1, color='Blue',label=\"NORMAL\")\n",
        "    plt.bar(x3,y3,linewidth=1, color='Yellow',label=\"HIGH\")\n",
        "\n",
        "    plt.legend()\n"
      ],
      "id": "1PTxcmzO5Bn0",
      "execution_count": null,
      "outputs": []
    },
    {
      "cell_type": "code",
      "metadata": {
        "id": "n1D_IbfL5nAp"
      },
      "source": [
        "def main():\n",
        "\n",
        "    print(\"==============================\")\n",
        "    print(\"|| PERHITUNGAN FUZZY SUGENO ||\")\n",
        "    print(\"==============================\")\n",
        "\n",
        "\n",
        "    print(\"\\n\\nMasukkan Nilai Efektivitas : \")\n",
        "    input_efektivitas = float(input())\n",
        " \n",
        "    print(\"Masukkan Nilai Kualitas : \")\n",
        "    input_kualitas = float(input())  \n",
        "\n",
        "    print(\"\\n\\n\")\n",
        "    print(\"---------------------------\")\n",
        "    print(\"Grafik Keanggotaan Efektivitas \")\n",
        "    print(\"---------------------------\\n\\n\")\n",
        "    \n",
        "    i = 0\n",
        "    grafikefektivitas(i)  \n",
        " \n",
        "    print(\"\\n\\n\")\n",
        "    print(\"---------------------------\")\n",
        "    print(\"Grafik Keanggotaan Kualitas \")\n",
        "    print(\"---------------------------\\n\\n\")\n",
        "    \n",
        "    i = 0\n",
        "    grafikkualitas(i)\n",
        " \n",
        "    print(\"\\n\\n---------------------------\")\n",
        "    print(\"Hasil Fuzzifikasi\")\n",
        "    print(\"---------------------------\")\n",
        "\n",
        "    hasil_fuzzifikasi(input_kualitas, input_efektivitas)\n",
        " \n",
        "    inferensi(input_kualitas, input_efektivitas)\n",
        "      "
      ],
      "id": "n1D_IbfL5nAp",
      "execution_count": null,
      "outputs": []
    },
    {
      "cell_type": "code",
      "metadata": {
        "colab": {
          "base_uri": "https://localhost:8080/",
          "height": 1000
        },
        "id": "WAbuNkko6QSF",
        "outputId": "3536bc2e-a913-4f3e-8a40-ad4d96f6098b"
      },
      "source": [
        "if __name__== \"__main__\":\n",
        "    main()"
      ],
      "id": "WAbuNkko6QSF",
      "execution_count": null,
      "outputs": [
        {
          "output_type": "stream",
          "name": "stdout",
          "text": [
            "==============================\n",
            "|| PERHITUNGAN FUZZY SUGENO ||\n",
            "==============================\n",
            "\n",
            "\n",
            "Masukkan Nilai Efektivitas : \n",
            "64\n",
            "Masukkan Nilai Kualitas : \n",
            "59\n",
            "\n",
            "\n",
            "\n",
            "---------------------------\n",
            "Grafik Keanggotaan Efektivitas \n",
            "---------------------------\n",
            "\n",
            "\n"
          ]
        },
        {
          "output_type": "display_data",
          "data": {
            "image/png": "[encoded data removed]",
            "text/plain": [
              "<Figure size 432x288 with 1 Axes>"
            ]
          },
          "metadata": {
            "needs_background": "light"
          }
        },
        {
          "output_type": "stream",
          "name": "stdout",
          "text": [
            "\n",
            "\n",
            "\n",
            "---------------------------\n",
            "Grafik Keanggotaan Kualitas \n",
            "---------------------------\n",
            "\n",
            "\n"
          ]
        },
        {
          "output_type": "display_data",
          "data": {
            "image/png": "[encoded data removed]",
            "text/plain": [
              "<Figure size 432x288 with 1 Axes>"
            ]
          },
          "metadata": {
            "needs_background": "light"
          }
        },
        {
          "output_type": "stream",
          "name": "stdout",
          "text": [
            "\n",
            "\n",
            "---------------------------\n",
            "Hasil Fuzzifikasi\n",
            "---------------------------\n",
            "Nilai Fuzzy Efektivitas\n",
            "\n",
            "Biasa = 0.55\n",
            "Baik = 0.45\n",
            "---------------------------\n",
            "Nilai Fuzzy Kualitas\n",
            "\n",
            "Bagus = 1\n",
            "---------------------------\n",
            "\n",
            "\n",
            "---------------------------\n",
            "Rules Yang Digunakan : \n",
            "---------------------------\n",
            "\n",
            "IF EFEKTIVITAS Biasa = 0.55 AND IF KUALITAS Bagus = 1 THEN NK LOW = 0.55\n",
            "----------------------------------------------------------------------\n",
            "IF EFEKTIVITAS Baik = 0.45 AND IF KUALITAS Bagus = 1 THEN NK HIGH = 0.45\n",
            "----------------------------------------------------------------------\n",
            "\n",
            "KARYAWAN DENGAN PERINGKAT LOW : 0.55\n",
            "\n",
            "KARYAWAN DENGAN PERINGKAT NORMAL : 0\n",
            "\n",
            "KARYAWAN DENGAN PERINGKAT HIGH : 0\n",
            "\n",
            "\n",
            "---------------------------\n",
            "Defuzzifikasi Sugeno : \n",
            "---------------------------\n",
            "\n",
            "pembilang = 27.5\n",
            "penyebut = 0.55\n",
            "y* = 50.0\n"
          ]
        },
        {
          "output_type": "display_data",
          "data": {
            "image/png": "[encoded data removed]",
            "text/plain": [
              "<Figure size 1080x360 with 1 Axes>"
            ]
          },
          "metadata": {
            "needs_background": "light"
          }
        },
        {
          "output_type": "display_data",
          "data": {
            "image/png": "[encoded data removed]",
            "text/plain": [
              "<Figure size 1080x360 with 1 Axes>"
            ]
          },
          "metadata": {
            "needs_background": "light"
          }
        }
      ]
    }
  ]
}